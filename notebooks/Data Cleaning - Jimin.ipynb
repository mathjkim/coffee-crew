{
 "cells": [
  {
   "cell_type": "code",
   "execution_count": 1,
   "metadata": {},
   "outputs": [],
   "source": [
    "import pandas as pd\n",
    "import numpy as np\n",
    "import seaborn as sns\n",
    "\n",
    "import plotly.express as px\n",
    "import plotly.graph_objects as go\n",
    "import chart_studio.plotly as py\n",
    "import plotly.offline as po\n",
    "import matplotlib.pyplot as plt\n",
    "%matplotlib inline"
   ]
  },
  {
   "cell_type": "code",
   "execution_count": 2,
   "metadata": {},
   "outputs": [],
   "source": [
    "production=pd.read_excel('../data/1a - Total production.xlsx')\n",
    "domestic_consumption = pd.read_excel('../data/1b - Domestic consumption.xlsx')\n",
    "gross_opening_stocks = pd.read_excel('../data/1d - Gross Opening stocks.xlsx')\n",
    "exports = pd.read_excel('../data/2a - Exports - calendar year.xlsx')\n",
    "imports = pd.read_excel('../data/2b - Imports.xlsx')\n",
    "re_exports = pd.read_excel('../data/2c - Re-exports.xlsx')\n",
    "price_grower = pd.read_excel('../data/3a - Prices paid to growers.xlsx')\n",
    "price_retail = pd.read_excel('../data/3b - Retail prices.xlsx')\n",
    "consumption = pd.read_excel('../data/4b - Disappearance.xlsx')\n",
    "\n"
   ]
  },
  {
   "cell_type": "markdown",
   "metadata": {},
   "source": [
    "## Data Cleaning"
   ]
  },
  {
   "cell_type": "markdown",
   "metadata": {},
   "source": [
    "(1) Remove empty rows."
   ]
  },
  {
   "cell_type": "code",
   "execution_count": 3,
   "metadata": {},
   "outputs": [],
   "source": [
    "data = [production,domestic_consumption,gross_opening_stocks,exports,imports,re_exports,price_grower,price_retail,consumption]\n",
    "    \n"
   ]
  },
  {
   "cell_type": "code",
   "execution_count": 4,
   "metadata": {},
   "outputs": [],
   "source": [
    "data_name = ['Production','Domestic_consumption','Gross_opening_stocks','Exports','Imports','Re_exports','Price_grower','Price_retail','Consumption']"
   ]
  },
  {
   "cell_type": "code",
   "execution_count": 5,
   "metadata": {},
   "outputs": [],
   "source": [
    "for df in data:\n",
    "    df = df.dropna(\n",
    "        axis = 0,\n",
    "        how = 'all',\n",
    "        thresh = None,\n",
    "        subset = None,\n",
    "        inplace = True\n",
    "    )"
   ]
  },
  {
   "cell_type": "markdown",
   "metadata": {},
   "source": [
    "(2) Convert the format of crop year 'x/x+1' to 'x'. Rename the first column to 'Country'."
   ]
  },
  {
   "cell_type": "code",
   "execution_count": 6,
   "metadata": {},
   "outputs": [],
   "source": [
    "cropyearformat = [production,domestic_consumption,gross_opening_stocks]"
   ]
  },
  {
   "cell_type": "code",
   "execution_count": 7,
   "metadata": {},
   "outputs": [],
   "source": [
    "cleaned = []\n",
    "\n",
    "for df in cropyearformat:\n",
    "    df = df.rename(columns = {x:x[:4] for x in df.columns})\n",
    "    df = df.drop(columns=['Unna'])\n",
    "    df = df.rename(columns = {'Crop':'Country'})\n",
    "    df = df.reset_index()\n",
    "    df = df.drop(columns=['index'])\n",
    "    \n",
    "    Apr = df[\"Country\"] == \"April group\"\n",
    "    Jul = df[\"Country\"] == \"July group\"\n",
    "    Oct = df[\"Country\"] == \"October group\"\n",
    "    Total = df[\"Country\"] == \"Total\"\n",
    "    \n",
    "#     df_apr = df[\"Country\"].iloc[df.index[Apr][0]:df.index[Jul][0]].values\n",
    "#     df_jul = df[\"Country\"].iloc[df.index[Jul][0]:df.index[Oct][0]].values\n",
    "#     df_oct = df[\"Country\"].iloc[df.index[Oct][0]:df.index[Total][0]].values\n",
    "#     df_total = df[\"Country\"].iloc[df.index[Total]].values\n",
    "    \n",
    "    df = df.drop([df.index[Apr][0],df.index[Jul][0],df.index[Oct][0],df.index[Total][0]],axis = 0)\n",
    "    \n",
    "    cleaned.append(df)"
   ]
  },
  {
   "cell_type": "code",
   "execution_count": 8,
   "metadata": {},
   "outputs": [],
   "source": [
    "[production,domestic_consumption,gross_opening_stocks] = cleaned"
   ]
  },
  {
   "cell_type": "code",
   "execution_count": 9,
   "metadata": {},
   "outputs": [],
   "source": [
    "for df in data:\n",
    "    if 'Calendar years' in df.columns:\n",
    "        df = df.rename(columns={'Calendar years':'Country'}, inplace = True)\n",
    "         "
   ]
  },
  {
   "cell_type": "markdown",
   "metadata": {},
   "source": [
    "(3) Remove Total"
   ]
  },
  {
   "cell_type": "code",
   "execution_count": 10,
   "metadata": {},
   "outputs": [],
   "source": [
    "remove_total = [exports,imports,re_exports,consumption]"
   ]
  },
  {
   "cell_type": "code",
   "execution_count": 11,
   "metadata": {},
   "outputs": [],
   "source": [
    "cleaned=[]\n",
    "for df in remove_total:\n",
    "    df = df.reset_index()\n",
    "    df = df.drop(columns=['index'])\n",
    "    Total = df[\"Country\"] == \"Total\"\n",
    "    df = df.drop([df.index[Total][0]],axis=0)\n",
    "    cleaned.append(df)\n",
    "exports,imports,re_exports,consumption = cleaned"
   ]
  },
  {
   "cell_type": "markdown",
   "metadata": {},
   "source": [
    "(4) Remove European Union"
   ]
  },
  {
   "cell_type": "code",
   "execution_count": 12,
   "metadata": {},
   "outputs": [],
   "source": [
    "remove_EU = [imports,re_exports,consumption,price_retail]"
   ]
  },
  {
   "cell_type": "code",
   "execution_count": 13,
   "metadata": {},
   "outputs": [],
   "source": [
    "cleaned=[]\n",
    "for df in remove_EU:\n",
    "    df = df.reset_index()\n",
    "    df = df.drop(columns=['index'])\n",
    "    eu = df[\"Country\"] == \"European Union\"\n",
    "    df = df.drop([df.index[eu][0]],axis=0)\n",
    "    cleaned.append(df)\n",
    "imports,re_exports,consumption,price_retail = cleaned"
   ]
  },
  {
   "cell_type": "markdown",
   "metadata": {},
   "source": [
    "(5) Milds info"
   ]
  },
  {
   "cell_type": "code",
   "execution_count": 14,
   "metadata": {},
   "outputs": [
    {
     "data": {
      "text/plain": [
       "Int64Index([ 1,  2,  3,  4,  6,  7,  8,  9, 10, 11, 12, 13, 14, 15, 16, 17, 18,\n",
       "            19, 20, 21, 22, 23, 24, 25, 26, 27, 28, 29, 30, 31, 32, 33, 35, 36,\n",
       "            37, 38, 39, 40, 41, 42, 43, 44, 45, 46, 47, 48, 49, 50, 51, 52, 53,\n",
       "            54, 55, 56, 57, 58, 59, 60, 61, 62, 63, 64, 65, 66, 67, 68, 69, 70,\n",
       "            71, 72],\n",
       "           dtype='int64')"
      ]
     },
     "execution_count": 14,
     "metadata": {},
     "output_type": "execute_result"
    }
   ],
   "source": [
    "price_grower.index"
   ]
  },
  {
   "cell_type": "code",
   "execution_count": 15,
   "metadata": {},
   "outputs": [],
   "source": [
    "# remove if a row is empty except Country == %Milds\n",
    "emptyrow = []\n",
    "price_grower = price_grower.reset_index()\n",
    "price_grower = price_grower.drop(columns=['index'])\n",
    "for i in price_grower.index:\n",
    "    if price_grower.iloc[i].notna().sum()==1:\n",
    "        emptyrow.append(i)\n",
    "\n"
   ]
  },
  {
   "cell_type": "code",
   "execution_count": 16,
   "metadata": {},
   "outputs": [],
   "source": [
    "price_grower = price_grower.drop(emptyrow,axis=0)"
   ]
  },
  {
   "cell_type": "code",
   "execution_count": 17,
   "metadata": {},
   "outputs": [],
   "source": [
    "# unnamed column delete? what does it me? R/A or A? or A/R?\n",
    "# unit specified later\n",
    "# Note there are three groups: April, June, October. "
   ]
  },
  {
   "cell_type": "markdown",
   "metadata": {},
   "source": [
    "() Clean 'Country'\n",
    "\n",
    "- strip()\n",
    "- Malta, United Kingdom -> remove 1"
   ]
  },
  {
   "cell_type": "code",
   "execution_count": 18,
   "metadata": {},
   "outputs": [],
   "source": [
    "data = [production,domestic_consumption,gross_opening_stocks,exports,imports,re_exports,price_grower,price_retail,consumption]"
   ]
  },
  {
   "cell_type": "code",
   "execution_count": 19,
   "metadata": {},
   "outputs": [],
   "source": [
    "cleaned=[]\n",
    "for df in data:\n",
    "    df[\"Country\"] = df[\"Country\"].str.strip()\n",
    "    cleaned.append(df)\n",
    "\n",
    "production,domestic_consumption,gross_opening_stocks,exports,imports,re_exports,price_grower,price_retail,consumption=cleaned"
   ]
  },
  {
   "cell_type": "code",
   "execution_count": 20,
   "metadata": {},
   "outputs": [
    {
     "data": {
      "text/html": [
       "<div>\n",
       "<style scoped>\n",
       "    .dataframe tbody tr th:only-of-type {\n",
       "        vertical-align: middle;\n",
       "    }\n",
       "\n",
       "    .dataframe tbody tr th {\n",
       "        vertical-align: top;\n",
       "    }\n",
       "\n",
       "    .dataframe thead th {\n",
       "        text-align: right;\n",
       "    }\n",
       "</style>\n",
       "<table border=\"1\" class=\"dataframe\">\n",
       "  <thead>\n",
       "    <tr style=\"text-align: right;\">\n",
       "      <th></th>\n",
       "      <th>Country</th>\n",
       "      <th>1990</th>\n",
       "      <th>1991</th>\n",
       "      <th>1992</th>\n",
       "      <th>1993</th>\n",
       "      <th>1994</th>\n",
       "      <th>1995</th>\n",
       "      <th>1996</th>\n",
       "      <th>1997</th>\n",
       "      <th>1998</th>\n",
       "      <th>...</th>\n",
       "      <th>2010</th>\n",
       "      <th>2011</th>\n",
       "      <th>2012</th>\n",
       "      <th>2013</th>\n",
       "      <th>2014</th>\n",
       "      <th>2015</th>\n",
       "      <th>2016</th>\n",
       "      <th>2017</th>\n",
       "      <th>2018</th>\n",
       "      <th>2019</th>\n",
       "    </tr>\n",
       "  </thead>\n",
       "  <tbody>\n",
       "    <tr>\n",
       "      <th>27</th>\n",
       "      <td>United Kingdom 1</td>\n",
       "      <td>10.55</td>\n",
       "      <td>10.41</td>\n",
       "      <td>10.09</td>\n",
       "      <td>8.44</td>\n",
       "      <td>11.36</td>\n",
       "      <td>13.79</td>\n",
       "      <td>13.35</td>\n",
       "      <td>14.9</td>\n",
       "      <td>15.42</td>\n",
       "      <td>...</td>\n",
       "      <td>15.7</td>\n",
       "      <td>19.02</td>\n",
       "      <td>19.2</td>\n",
       "      <td>18.92</td>\n",
       "      <td>20.56</td>\n",
       "      <td>18.91</td>\n",
       "      <td>16.29</td>\n",
       "      <td>17.01</td>\n",
       "      <td>18.4</td>\n",
       "      <td>17.553314</td>\n",
       "    </tr>\n",
       "  </tbody>\n",
       "</table>\n",
       "<p>1 rows × 31 columns</p>\n",
       "</div>"
      ],
      "text/plain": [
       "             Country   1990   1991   1992  1993   1994   1995   1996  1997  \\\n",
       "27  United Kingdom 1  10.55  10.41  10.09  8.44  11.36  13.79  13.35  14.9   \n",
       "\n",
       "     1998  ...  2010   2011  2012   2013   2014   2015   2016   2017  2018  \\\n",
       "27  15.42  ...  15.7  19.02  19.2  18.92  20.56  18.91  16.29  17.01  18.4   \n",
       "\n",
       "         2019  \n",
       "27  17.553314  \n",
       "\n",
       "[1 rows x 31 columns]"
      ]
     },
     "execution_count": 20,
     "metadata": {},
     "output_type": "execute_result"
    }
   ],
   "source": [
    "price_retail.loc[price_retail[\"Country\"] == 'United Kingdom 1']"
   ]
  },
  {
   "cell_type": "code",
   "execution_count": 21,
   "metadata": {},
   "outputs": [],
   "source": [
    "price_retail  = price_retail.replace('Malta 1', 'Malta')"
   ]
  },
  {
   "cell_type": "code",
   "execution_count": 22,
   "metadata": {},
   "outputs": [],
   "source": [
    "price_retail  = price_retail.replace('United Kingdom 1', 'United Kingdom')"
   ]
  },
  {
   "cell_type": "markdown",
   "metadata": {},
   "source": [
    "Some of the column names are integer in 'price_grower' and 'price_retail. Convert them to string. "
   ]
  },
  {
   "cell_type": "code",
   "execution_count": 23,
   "metadata": {},
   "outputs": [],
   "source": [
    "price_grower.columns = price_grower.columns.astype(str)\n",
    "price_retail.columns = price_retail.columns.astype(str)"
   ]
  },
  {
   "cell_type": "markdown",
   "metadata": {},
   "source": [
    "### pd.melt to combine the tables"
   ]
  },
  {
   "cell_type": "code",
   "execution_count": 31,
   "metadata": {},
   "outputs": [],
   "source": [
    "data = [production,domestic_consumption,gross_opening_stocks,exports,imports,re_exports,price_grower,price_retail,consumption]\n",
    "    \n"
   ]
  },
  {
   "cell_type": "code",
   "execution_count": 25,
   "metadata": {},
   "outputs": [],
   "source": [
    "melted_data =[]\n",
    "for ind, df in enumerate(data):\n",
    "    df = pd.melt(df, id_vars = 'Country', value_vars = ['1990', '1991', '1992', '1993', '1994', '1995',\n",
    "       '1996', '1997', '1998', '1999', '2000', '2001', '2002', '2003', '2004',\n",
    "       '2005', '2006', '2007', '2008', '2009', '2010', '2011', '2012', '2013',\n",
    "       '2014', '2015', '2016', '2017', '2018', '2019'],\n",
    "                        var_name = 'Year', value_name = data_name[ind])\n",
    "    melted_data.append(df)"
   ]
  },
  {
   "cell_type": "code",
   "execution_count": 26,
   "metadata": {},
   "outputs": [],
   "source": [
    "[production,domestic_consumption,gross_opening_stocks,exports,imports,re_exports,price_grower,price_retail,consumption] = melted_data"
   ]
  },
  {
   "cell_type": "markdown",
   "metadata": {},
   "source": [
    "### Merge data"
   ]
  },
  {
   "cell_type": "code",
   "execution_count": 32,
   "metadata": {},
   "outputs": [],
   "source": [
    "coordinates_world=pd.read_csv('../data/coordinates_world.csv')"
   ]
  },
  {
   "cell_type": "code",
   "execution_count": 33,
   "metadata": {},
   "outputs": [],
   "source": [
    "coordinates_world = coordinates_world.rename(columns={'country':'Country'})"
   ]
  },
  {
   "cell_type": "markdown",
   "metadata": {},
   "source": [
    "production,domestic_consumption,gross_opening_stocks,exports,imports,re_exports,price_grower,price_retail,consumption"
   ]
  },
  {
   "cell_type": "code",
   "execution_count": 34,
   "metadata": {},
   "outputs": [],
   "source": [
    "right = exports"
   ]
  },
  {
   "cell_type": "code",
   "execution_count": 35,
   "metadata": {},
   "outputs": [],
   "source": [
    "left = production"
   ]
  },
  {
   "cell_type": "code",
   "execution_count": 36,
   "metadata": {},
   "outputs": [],
   "source": [
    "res = pd.merge(left, right, how = \"outer\", on = [\"Country\",\"Year\"])"
   ]
  },
  {
   "cell_type": "code",
   "execution_count": 37,
   "metadata": {},
   "outputs": [
    {
     "data": {
      "text/html": [
       "<div>\n",
       "<style scoped>\n",
       "    .dataframe tbody tr th:only-of-type {\n",
       "        vertical-align: middle;\n",
       "    }\n",
       "\n",
       "    .dataframe tbody tr th {\n",
       "        vertical-align: top;\n",
       "    }\n",
       "\n",
       "    .dataframe thead th {\n",
       "        text-align: right;\n",
       "    }\n",
       "</style>\n",
       "<table border=\"1\" class=\"dataframe\">\n",
       "  <thead>\n",
       "    <tr style=\"text-align: right;\">\n",
       "      <th></th>\n",
       "      <th>Country</th>\n",
       "      <th>Year</th>\n",
       "      <th>Production</th>\n",
       "      <th>Exports</th>\n",
       "    </tr>\n",
       "  </thead>\n",
       "  <tbody>\n",
       "    <tr>\n",
       "      <th>0</th>\n",
       "      <td>Angola</td>\n",
       "      <td>1990</td>\n",
       "      <td>50.3450</td>\n",
       "      <td>84.350000</td>\n",
       "    </tr>\n",
       "    <tr>\n",
       "      <th>1</th>\n",
       "      <td>Bolivia (Plurinational State of)</td>\n",
       "      <td>1990</td>\n",
       "      <td>122.7770</td>\n",
       "      <td>156.442000</td>\n",
       "    </tr>\n",
       "    <tr>\n",
       "      <th>2</th>\n",
       "      <td>Brazil</td>\n",
       "      <td>1990</td>\n",
       "      <td>27285.6286</td>\n",
       "      <td>16935.787600</td>\n",
       "    </tr>\n",
       "    <tr>\n",
       "      <th>3</th>\n",
       "      <td>Burundi</td>\n",
       "      <td>1990</td>\n",
       "      <td>487.3930</td>\n",
       "      <td>584.773000</td>\n",
       "    </tr>\n",
       "    <tr>\n",
       "      <th>4</th>\n",
       "      <td>Ecuador</td>\n",
       "      <td>1990</td>\n",
       "      <td>1503.8150</td>\n",
       "      <td>1783.716000</td>\n",
       "    </tr>\n",
       "    <tr>\n",
       "      <th>...</th>\n",
       "      <td>...</td>\n",
       "      <td>...</td>\n",
       "      <td>...</td>\n",
       "      <td>...</td>\n",
       "    </tr>\n",
       "    <tr>\n",
       "      <th>1645</th>\n",
       "      <td>Trinidad &amp; Tobago</td>\n",
       "      <td>2019</td>\n",
       "      <td>11.6910</td>\n",
       "      <td>2.471083</td>\n",
       "    </tr>\n",
       "    <tr>\n",
       "      <th>1646</th>\n",
       "      <td>Uganda</td>\n",
       "      <td>2019</td>\n",
       "      <td>5509.1540</td>\n",
       "      <td>4526.143000</td>\n",
       "    </tr>\n",
       "    <tr>\n",
       "      <th>1647</th>\n",
       "      <td>Venezuela</td>\n",
       "      <td>2019</td>\n",
       "      <td>650.1046</td>\n",
       "      <td>53.233395</td>\n",
       "    </tr>\n",
       "    <tr>\n",
       "      <th>1648</th>\n",
       "      <td>Viet Nam</td>\n",
       "      <td>2019</td>\n",
       "      <td>30487.1644</td>\n",
       "      <td>27400.161817</td>\n",
       "    </tr>\n",
       "    <tr>\n",
       "      <th>1649</th>\n",
       "      <td>Yemen</td>\n",
       "      <td>2019</td>\n",
       "      <td>91.4278</td>\n",
       "      <td>12.180524</td>\n",
       "    </tr>\n",
       "  </tbody>\n",
       "</table>\n",
       "<p>1650 rows × 4 columns</p>\n",
       "</div>"
      ],
      "text/plain": [
       "                               Country  Year  Production       Exports\n",
       "0                               Angola  1990     50.3450     84.350000\n",
       "1     Bolivia (Plurinational State of)  1990    122.7770    156.442000\n",
       "2                               Brazil  1990  27285.6286  16935.787600\n",
       "3                              Burundi  1990    487.3930    584.773000\n",
       "4                              Ecuador  1990   1503.8150   1783.716000\n",
       "...                                ...   ...         ...           ...\n",
       "1645                 Trinidad & Tobago  2019     11.6910      2.471083\n",
       "1646                            Uganda  2019   5509.1540   4526.143000\n",
       "1647                         Venezuela  2019    650.1046     53.233395\n",
       "1648                          Viet Nam  2019  30487.1644  27400.161817\n",
       "1649                             Yemen  2019     91.4278     12.180524\n",
       "\n",
       "[1650 rows x 4 columns]"
      ]
     },
     "execution_count": 37,
     "metadata": {},
     "output_type": "execute_result"
    }
   ],
   "source": [
    "res"
   ]
  },
  {
   "cell_type": "code",
   "execution_count": 38,
   "metadata": {},
   "outputs": [],
   "source": [
    "left = res\n",
    "right = domestic_consumption\n",
    "res = pd.merge(left, right, how = \"outer\",on = [\"Country\",\"Year\"])"
   ]
  },
  {
   "cell_type": "code",
   "execution_count": 39,
   "metadata": {},
   "outputs": [
    {
     "data": {
      "text/html": [
       "<div>\n",
       "<style scoped>\n",
       "    .dataframe tbody tr th:only-of-type {\n",
       "        vertical-align: middle;\n",
       "    }\n",
       "\n",
       "    .dataframe tbody tr th {\n",
       "        vertical-align: top;\n",
       "    }\n",
       "\n",
       "    .dataframe thead th {\n",
       "        text-align: right;\n",
       "    }\n",
       "</style>\n",
       "<table border=\"1\" class=\"dataframe\">\n",
       "  <thead>\n",
       "    <tr style=\"text-align: right;\">\n",
       "      <th></th>\n",
       "      <th>Country</th>\n",
       "      <th>Year</th>\n",
       "      <th>Production</th>\n",
       "      <th>Exports</th>\n",
       "      <th>Domestic_consumption</th>\n",
       "    </tr>\n",
       "  </thead>\n",
       "  <tbody>\n",
       "    <tr>\n",
       "      <th>0</th>\n",
       "      <td>Angola</td>\n",
       "      <td>1990</td>\n",
       "      <td>50.3450</td>\n",
       "      <td>84.350000</td>\n",
       "      <td>20.0</td>\n",
       "    </tr>\n",
       "    <tr>\n",
       "      <th>1</th>\n",
       "      <td>Bolivia (Plurinational State of)</td>\n",
       "      <td>1990</td>\n",
       "      <td>122.7770</td>\n",
       "      <td>156.442000</td>\n",
       "      <td>25.0</td>\n",
       "    </tr>\n",
       "    <tr>\n",
       "      <th>2</th>\n",
       "      <td>Brazil</td>\n",
       "      <td>1990</td>\n",
       "      <td>27285.6286</td>\n",
       "      <td>16935.787600</td>\n",
       "      <td>8200.0</td>\n",
       "    </tr>\n",
       "    <tr>\n",
       "      <th>3</th>\n",
       "      <td>Burundi</td>\n",
       "      <td>1990</td>\n",
       "      <td>487.3930</td>\n",
       "      <td>584.773000</td>\n",
       "      <td>2.0</td>\n",
       "    </tr>\n",
       "    <tr>\n",
       "      <th>4</th>\n",
       "      <td>Ecuador</td>\n",
       "      <td>1990</td>\n",
       "      <td>1503.8150</td>\n",
       "      <td>1783.716000</td>\n",
       "      <td>350.0</td>\n",
       "    </tr>\n",
       "    <tr>\n",
       "      <th>...</th>\n",
       "      <td>...</td>\n",
       "      <td>...</td>\n",
       "      <td>...</td>\n",
       "      <td>...</td>\n",
       "      <td>...</td>\n",
       "    </tr>\n",
       "    <tr>\n",
       "      <th>1645</th>\n",
       "      <td>Trinidad &amp; Tobago</td>\n",
       "      <td>2019</td>\n",
       "      <td>11.6910</td>\n",
       "      <td>2.471083</td>\n",
       "      <td>10.0</td>\n",
       "    </tr>\n",
       "    <tr>\n",
       "      <th>1646</th>\n",
       "      <td>Uganda</td>\n",
       "      <td>2019</td>\n",
       "      <td>5509.1540</td>\n",
       "      <td>4526.143000</td>\n",
       "      <td>254.0</td>\n",
       "    </tr>\n",
       "    <tr>\n",
       "      <th>1647</th>\n",
       "      <td>Venezuela</td>\n",
       "      <td>2019</td>\n",
       "      <td>650.1046</td>\n",
       "      <td>53.233395</td>\n",
       "      <td>1275.0</td>\n",
       "    </tr>\n",
       "    <tr>\n",
       "      <th>1648</th>\n",
       "      <td>Viet Nam</td>\n",
       "      <td>2019</td>\n",
       "      <td>30487.1644</td>\n",
       "      <td>27400.161817</td>\n",
       "      <td>2650.0</td>\n",
       "    </tr>\n",
       "    <tr>\n",
       "      <th>1649</th>\n",
       "      <td>Yemen</td>\n",
       "      <td>2019</td>\n",
       "      <td>91.4278</td>\n",
       "      <td>12.180524</td>\n",
       "      <td>64.0</td>\n",
       "    </tr>\n",
       "  </tbody>\n",
       "</table>\n",
       "<p>1650 rows × 5 columns</p>\n",
       "</div>"
      ],
      "text/plain": [
       "                               Country  Year  Production       Exports  \\\n",
       "0                               Angola  1990     50.3450     84.350000   \n",
       "1     Bolivia (Plurinational State of)  1990    122.7770    156.442000   \n",
       "2                               Brazil  1990  27285.6286  16935.787600   \n",
       "3                              Burundi  1990    487.3930    584.773000   \n",
       "4                              Ecuador  1990   1503.8150   1783.716000   \n",
       "...                                ...   ...         ...           ...   \n",
       "1645                 Trinidad & Tobago  2019     11.6910      2.471083   \n",
       "1646                            Uganda  2019   5509.1540   4526.143000   \n",
       "1647                         Venezuela  2019    650.1046     53.233395   \n",
       "1648                          Viet Nam  2019  30487.1644  27400.161817   \n",
       "1649                             Yemen  2019     91.4278     12.180524   \n",
       "\n",
       "      Domestic_consumption  \n",
       "0                     20.0  \n",
       "1                     25.0  \n",
       "2                   8200.0  \n",
       "3                      2.0  \n",
       "4                    350.0  \n",
       "...                    ...  \n",
       "1645                  10.0  \n",
       "1646                 254.0  \n",
       "1647                1275.0  \n",
       "1648                2650.0  \n",
       "1649                  64.0  \n",
       "\n",
       "[1650 rows x 5 columns]"
      ]
     },
     "execution_count": 39,
     "metadata": {},
     "output_type": "execute_result"
    }
   ],
   "source": [
    "res"
   ]
  },
  {
   "cell_type": "code",
   "execution_count": 40,
   "metadata": {},
   "outputs": [],
   "source": [
    "left = res\n",
    "right = gross_opening_stocks\n",
    "res = pd.merge(left, right,how = \"outer\", on = [\"Country\",\"Year\"])"
   ]
  },
  {
   "cell_type": "code",
   "execution_count": 41,
   "metadata": {},
   "outputs": [
    {
     "data": {
      "text/html": [
       "<div>\n",
       "<style scoped>\n",
       "    .dataframe tbody tr th:only-of-type {\n",
       "        vertical-align: middle;\n",
       "    }\n",
       "\n",
       "    .dataframe tbody tr th {\n",
       "        vertical-align: top;\n",
       "    }\n",
       "\n",
       "    .dataframe thead th {\n",
       "        text-align: right;\n",
       "    }\n",
       "</style>\n",
       "<table border=\"1\" class=\"dataframe\">\n",
       "  <thead>\n",
       "    <tr style=\"text-align: right;\">\n",
       "      <th></th>\n",
       "      <th>Country</th>\n",
       "      <th>Year</th>\n",
       "      <th>Production</th>\n",
       "      <th>Exports</th>\n",
       "      <th>Domestic_consumption</th>\n",
       "      <th>Gross_opening_stocks</th>\n",
       "    </tr>\n",
       "  </thead>\n",
       "  <tbody>\n",
       "    <tr>\n",
       "      <th>0</th>\n",
       "      <td>Angola</td>\n",
       "      <td>1990</td>\n",
       "      <td>50.3450</td>\n",
       "      <td>84.350000</td>\n",
       "      <td>20.0</td>\n",
       "      <td>210.000</td>\n",
       "    </tr>\n",
       "    <tr>\n",
       "      <th>1</th>\n",
       "      <td>Bolivia (Plurinational State of)</td>\n",
       "      <td>1990</td>\n",
       "      <td>122.7770</td>\n",
       "      <td>156.442000</td>\n",
       "      <td>25.0</td>\n",
       "      <td>54.000</td>\n",
       "    </tr>\n",
       "    <tr>\n",
       "      <th>2</th>\n",
       "      <td>Brazil</td>\n",
       "      <td>1990</td>\n",
       "      <td>27285.6286</td>\n",
       "      <td>16935.787600</td>\n",
       "      <td>8200.0</td>\n",
       "      <td>26926.000</td>\n",
       "    </tr>\n",
       "    <tr>\n",
       "      <th>3</th>\n",
       "      <td>Burundi</td>\n",
       "      <td>1990</td>\n",
       "      <td>487.3930</td>\n",
       "      <td>584.773000</td>\n",
       "      <td>2.0</td>\n",
       "      <td>77.000</td>\n",
       "    </tr>\n",
       "    <tr>\n",
       "      <th>4</th>\n",
       "      <td>Ecuador</td>\n",
       "      <td>1990</td>\n",
       "      <td>1503.8150</td>\n",
       "      <td>1783.716000</td>\n",
       "      <td>350.0</td>\n",
       "      <td>723.963</td>\n",
       "    </tr>\n",
       "    <tr>\n",
       "      <th>...</th>\n",
       "      <td>...</td>\n",
       "      <td>...</td>\n",
       "      <td>...</td>\n",
       "      <td>...</td>\n",
       "      <td>...</td>\n",
       "      <td>...</td>\n",
       "    </tr>\n",
       "    <tr>\n",
       "      <th>1645</th>\n",
       "      <td>Trinidad &amp; Tobago</td>\n",
       "      <td>2019</td>\n",
       "      <td>11.6910</td>\n",
       "      <td>2.471083</td>\n",
       "      <td>10.0</td>\n",
       "      <td>0.000</td>\n",
       "    </tr>\n",
       "    <tr>\n",
       "      <th>1646</th>\n",
       "      <td>Uganda</td>\n",
       "      <td>2019</td>\n",
       "      <td>5509.1540</td>\n",
       "      <td>4526.143000</td>\n",
       "      <td>254.0</td>\n",
       "      <td>900.000</td>\n",
       "    </tr>\n",
       "    <tr>\n",
       "      <th>1647</th>\n",
       "      <td>Venezuela</td>\n",
       "      <td>2019</td>\n",
       "      <td>650.1046</td>\n",
       "      <td>53.233395</td>\n",
       "      <td>1275.0</td>\n",
       "      <td>0.000</td>\n",
       "    </tr>\n",
       "    <tr>\n",
       "      <th>1648</th>\n",
       "      <td>Viet Nam</td>\n",
       "      <td>2019</td>\n",
       "      <td>30487.1644</td>\n",
       "      <td>27400.161817</td>\n",
       "      <td>2650.0</td>\n",
       "      <td>5200.000</td>\n",
       "    </tr>\n",
       "    <tr>\n",
       "      <th>1649</th>\n",
       "      <td>Yemen</td>\n",
       "      <td>2019</td>\n",
       "      <td>91.4278</td>\n",
       "      <td>12.180524</td>\n",
       "      <td>64.0</td>\n",
       "      <td>0.000</td>\n",
       "    </tr>\n",
       "  </tbody>\n",
       "</table>\n",
       "<p>1650 rows × 6 columns</p>\n",
       "</div>"
      ],
      "text/plain": [
       "                               Country  Year  Production       Exports  \\\n",
       "0                               Angola  1990     50.3450     84.350000   \n",
       "1     Bolivia (Plurinational State of)  1990    122.7770    156.442000   \n",
       "2                               Brazil  1990  27285.6286  16935.787600   \n",
       "3                              Burundi  1990    487.3930    584.773000   \n",
       "4                              Ecuador  1990   1503.8150   1783.716000   \n",
       "...                                ...   ...         ...           ...   \n",
       "1645                 Trinidad & Tobago  2019     11.6910      2.471083   \n",
       "1646                            Uganda  2019   5509.1540   4526.143000   \n",
       "1647                         Venezuela  2019    650.1046     53.233395   \n",
       "1648                          Viet Nam  2019  30487.1644  27400.161817   \n",
       "1649                             Yemen  2019     91.4278     12.180524   \n",
       "\n",
       "      Domestic_consumption  Gross_opening_stocks  \n",
       "0                     20.0               210.000  \n",
       "1                     25.0                54.000  \n",
       "2                   8200.0             26926.000  \n",
       "3                      2.0                77.000  \n",
       "4                    350.0               723.963  \n",
       "...                    ...                   ...  \n",
       "1645                  10.0                 0.000  \n",
       "1646                 254.0               900.000  \n",
       "1647                1275.0                 0.000  \n",
       "1648                2650.0              5200.000  \n",
       "1649                  64.0                 0.000  \n",
       "\n",
       "[1650 rows x 6 columns]"
      ]
     },
     "execution_count": 41,
     "metadata": {},
     "output_type": "execute_result"
    }
   ],
   "source": [
    "res"
   ]
  },
  {
   "cell_type": "code",
   "execution_count": 42,
   "metadata": {},
   "outputs": [],
   "source": [
    "left = res\n",
    "right = imports\n",
    "res = pd.merge(left, right,how=\"outer\" ,on = [\"Country\",\"Year\"])"
   ]
  },
  {
   "cell_type": "code",
   "execution_count": 43,
   "metadata": {},
   "outputs": [
    {
     "data": {
      "text/html": [
       "<div>\n",
       "<style scoped>\n",
       "    .dataframe tbody tr th:only-of-type {\n",
       "        vertical-align: middle;\n",
       "    }\n",
       "\n",
       "    .dataframe tbody tr th {\n",
       "        vertical-align: top;\n",
       "    }\n",
       "\n",
       "    .dataframe thead th {\n",
       "        text-align: right;\n",
       "    }\n",
       "</style>\n",
       "<table border=\"1\" class=\"dataframe\">\n",
       "  <thead>\n",
       "    <tr style=\"text-align: right;\">\n",
       "      <th></th>\n",
       "      <th>Country</th>\n",
       "      <th>Year</th>\n",
       "      <th>Production</th>\n",
       "      <th>Exports</th>\n",
       "      <th>Domestic_consumption</th>\n",
       "      <th>Gross_opening_stocks</th>\n",
       "      <th>Imports</th>\n",
       "    </tr>\n",
       "  </thead>\n",
       "  <tbody>\n",
       "    <tr>\n",
       "      <th>0</th>\n",
       "      <td>Angola</td>\n",
       "      <td>1990</td>\n",
       "      <td>50.3450</td>\n",
       "      <td>84.3500</td>\n",
       "      <td>20.0</td>\n",
       "      <td>210.000</td>\n",
       "      <td>NaN</td>\n",
       "    </tr>\n",
       "    <tr>\n",
       "      <th>1</th>\n",
       "      <td>Bolivia (Plurinational State of)</td>\n",
       "      <td>1990</td>\n",
       "      <td>122.7770</td>\n",
       "      <td>156.4420</td>\n",
       "      <td>25.0</td>\n",
       "      <td>54.000</td>\n",
       "      <td>NaN</td>\n",
       "    </tr>\n",
       "    <tr>\n",
       "      <th>2</th>\n",
       "      <td>Brazil</td>\n",
       "      <td>1990</td>\n",
       "      <td>27285.6286</td>\n",
       "      <td>16935.7876</td>\n",
       "      <td>8200.0</td>\n",
       "      <td>26926.000</td>\n",
       "      <td>NaN</td>\n",
       "    </tr>\n",
       "    <tr>\n",
       "      <th>3</th>\n",
       "      <td>Burundi</td>\n",
       "      <td>1990</td>\n",
       "      <td>487.3930</td>\n",
       "      <td>584.7730</td>\n",
       "      <td>2.0</td>\n",
       "      <td>77.000</td>\n",
       "      <td>NaN</td>\n",
       "    </tr>\n",
       "    <tr>\n",
       "      <th>4</th>\n",
       "      <td>Ecuador</td>\n",
       "      <td>1990</td>\n",
       "      <td>1503.8150</td>\n",
       "      <td>1783.7160</td>\n",
       "      <td>350.0</td>\n",
       "      <td>723.963</td>\n",
       "      <td>NaN</td>\n",
       "    </tr>\n",
       "    <tr>\n",
       "      <th>...</th>\n",
       "      <td>...</td>\n",
       "      <td>...</td>\n",
       "      <td>...</td>\n",
       "      <td>...</td>\n",
       "      <td>...</td>\n",
       "      <td>...</td>\n",
       "      <td>...</td>\n",
       "    </tr>\n",
       "    <tr>\n",
       "      <th>2695</th>\n",
       "      <td>Russian Federation</td>\n",
       "      <td>2019</td>\n",
       "      <td>NaN</td>\n",
       "      <td>NaN</td>\n",
       "      <td>NaN</td>\n",
       "      <td>NaN</td>\n",
       "      <td>5916.632578</td>\n",
       "    </tr>\n",
       "    <tr>\n",
       "      <th>2696</th>\n",
       "      <td>Switzerland</td>\n",
       "      <td>2019</td>\n",
       "      <td>NaN</td>\n",
       "      <td>NaN</td>\n",
       "      <td>NaN</td>\n",
       "      <td>NaN</td>\n",
       "      <td>3228.382979</td>\n",
       "    </tr>\n",
       "    <tr>\n",
       "      <th>2697</th>\n",
       "      <td>Tunisia</td>\n",
       "      <td>2019</td>\n",
       "      <td>NaN</td>\n",
       "      <td>NaN</td>\n",
       "      <td>NaN</td>\n",
       "      <td>NaN</td>\n",
       "      <td>508.332000</td>\n",
       "    </tr>\n",
       "    <tr>\n",
       "      <th>2698</th>\n",
       "      <td>United Kingdom</td>\n",
       "      <td>2019</td>\n",
       "      <td>NaN</td>\n",
       "      <td>NaN</td>\n",
       "      <td>NaN</td>\n",
       "      <td>NaN</td>\n",
       "      <td>5554.363879</td>\n",
       "    </tr>\n",
       "    <tr>\n",
       "      <th>2699</th>\n",
       "      <td>United States of America</td>\n",
       "      <td>2019</td>\n",
       "      <td>NaN</td>\n",
       "      <td>NaN</td>\n",
       "      <td>NaN</td>\n",
       "      <td>NaN</td>\n",
       "      <td>30854.072649</td>\n",
       "    </tr>\n",
       "  </tbody>\n",
       "</table>\n",
       "<p>2700 rows × 7 columns</p>\n",
       "</div>"
      ],
      "text/plain": [
       "                               Country  Year  Production     Exports  \\\n",
       "0                               Angola  1990     50.3450     84.3500   \n",
       "1     Bolivia (Plurinational State of)  1990    122.7770    156.4420   \n",
       "2                               Brazil  1990  27285.6286  16935.7876   \n",
       "3                              Burundi  1990    487.3930    584.7730   \n",
       "4                              Ecuador  1990   1503.8150   1783.7160   \n",
       "...                                ...   ...         ...         ...   \n",
       "2695                Russian Federation  2019         NaN         NaN   \n",
       "2696                       Switzerland  2019         NaN         NaN   \n",
       "2697                           Tunisia  2019         NaN         NaN   \n",
       "2698                    United Kingdom  2019         NaN         NaN   \n",
       "2699          United States of America  2019         NaN         NaN   \n",
       "\n",
       "      Domestic_consumption  Gross_opening_stocks       Imports  \n",
       "0                     20.0               210.000           NaN  \n",
       "1                     25.0                54.000           NaN  \n",
       "2                   8200.0             26926.000           NaN  \n",
       "3                      2.0                77.000           NaN  \n",
       "4                    350.0               723.963           NaN  \n",
       "...                    ...                   ...           ...  \n",
       "2695                   NaN                   NaN   5916.632578  \n",
       "2696                   NaN                   NaN   3228.382979  \n",
       "2697                   NaN                   NaN    508.332000  \n",
       "2698                   NaN                   NaN   5554.363879  \n",
       "2699                   NaN                   NaN  30854.072649  \n",
       "\n",
       "[2700 rows x 7 columns]"
      ]
     },
     "execution_count": 43,
     "metadata": {},
     "output_type": "execute_result"
    }
   ],
   "source": [
    "res"
   ]
  },
  {
   "cell_type": "code",
   "execution_count": 44,
   "metadata": {},
   "outputs": [],
   "source": [
    "left = res\n",
    "right = re_exports\n",
    "res = pd.merge(left, right,how=\"outer\" ,on = [\"Country\",\"Year\"])"
   ]
  },
  {
   "cell_type": "code",
   "execution_count": 47,
   "metadata": {},
   "outputs": [],
   "source": [
    "left = res\n",
    "right = price_grower\n",
    "res = pd.merge(left, right,on = [\"Country\",\"Year\"])"
   ]
  },
  {
   "cell_type": "code",
   "execution_count": 49,
   "metadata": {},
   "outputs": [],
   "source": [
    "left = res\n",
    "right = price_retail\n",
    "res = pd.merge(left, right,how=\"outer\" ,on = [\"Country\",\"Year\"])"
   ]
  },
  {
   "cell_type": "code",
   "execution_count": 51,
   "metadata": {},
   "outputs": [],
   "source": [
    "left = res\n",
    "right = consumption\n",
    "res = pd.merge(left, right,how=\"outer\" ,on = [\"Country\",\"Year\"])"
   ]
  },
  {
   "cell_type": "code",
   "execution_count": 53,
   "metadata": {},
   "outputs": [],
   "source": [
    "left = res\n",
    "right = coordinates_world[[\"country_code\",\"latitude\",\"longitude\",\"Country\"]]\n",
    "res = pd.merge(left, right,how=\"left\",on = [\"Country\"])"
   ]
  },
  {
   "cell_type": "code",
   "execution_count": 56,
   "metadata": {},
   "outputs": [],
   "source": [
    "res['Year'] = pd.to_numeric(res['Year'])"
   ]
  },
  {
   "cell_type": "code",
   "execution_count": 57,
   "metadata": {},
   "outputs": [],
   "source": [
    "res = res.rename(columns={'country_code':'Country_code',\"latitude\":\"Latitude\", \"longitude\":\"Longitude\"})"
   ]
  },
  {
   "cell_type": "code",
   "execution_count": 59,
   "metadata": {},
   "outputs": [],
   "source": [
    "res.to_csv(\"../data/coffee-cleaned.csv\", index=False)"
   ]
  },
  {
   "cell_type": "code",
   "execution_count": null,
   "metadata": {},
   "outputs": [],
   "source": []
  },
  {
   "cell_type": "code",
   "execution_count": 84,
   "metadata": {},
   "outputs": [],
   "source": [
    "cleaned = pd.read_csv(\"../data/coffee-cleaned.csv\")"
   ]
  },
  {
   "cell_type": "code",
   "execution_count": 85,
   "metadata": {},
   "outputs": [
    {
     "data": {
      "text/html": [
       "<div>\n",
       "<style scoped>\n",
       "    .dataframe tbody tr th:only-of-type {\n",
       "        vertical-align: middle;\n",
       "    }\n",
       "\n",
       "    .dataframe tbody tr th {\n",
       "        vertical-align: top;\n",
       "    }\n",
       "\n",
       "    .dataframe thead th {\n",
       "        text-align: right;\n",
       "    }\n",
       "</style>\n",
       "<table border=\"1\" class=\"dataframe\">\n",
       "  <thead>\n",
       "    <tr style=\"text-align: right;\">\n",
       "      <th></th>\n",
       "      <th>Country</th>\n",
       "      <th>Year</th>\n",
       "      <th>Production</th>\n",
       "      <th>Exports</th>\n",
       "      <th>Domestic_consumption</th>\n",
       "      <th>Gross_opening_stocks</th>\n",
       "      <th>Imports</th>\n",
       "      <th>Re_exports</th>\n",
       "      <th>Price_grower</th>\n",
       "      <th>Price_retail</th>\n",
       "      <th>Consumption</th>\n",
       "      <th>Country_code</th>\n",
       "      <th>Latitude</th>\n",
       "      <th>Longitude</th>\n",
       "    </tr>\n",
       "  </thead>\n",
       "  <tbody>\n",
       "    <tr>\n",
       "      <th>0</th>\n",
       "      <td>Angola</td>\n",
       "      <td>1990</td>\n",
       "      <td>50.3450</td>\n",
       "      <td>84.3500</td>\n",
       "      <td>20.0</td>\n",
       "      <td>210.0</td>\n",
       "      <td>NaN</td>\n",
       "      <td>NaN</td>\n",
       "      <td>NaN</td>\n",
       "      <td>NaN</td>\n",
       "      <td>NaN</td>\n",
       "      <td>AO</td>\n",
       "      <td>-11.202692</td>\n",
       "      <td>17.873887</td>\n",
       "    </tr>\n",
       "    <tr>\n",
       "      <th>1</th>\n",
       "      <td>Angola</td>\n",
       "      <td>1990</td>\n",
       "      <td>50.3450</td>\n",
       "      <td>84.3500</td>\n",
       "      <td>20.0</td>\n",
       "      <td>210.0</td>\n",
       "      <td>NaN</td>\n",
       "      <td>NaN</td>\n",
       "      <td>85.6569</td>\n",
       "      <td>NaN</td>\n",
       "      <td>NaN</td>\n",
       "      <td>AO</td>\n",
       "      <td>-11.202692</td>\n",
       "      <td>17.873887</td>\n",
       "    </tr>\n",
       "    <tr>\n",
       "      <th>2</th>\n",
       "      <td>Bolivia (Plurinational State of)</td>\n",
       "      <td>1990</td>\n",
       "      <td>122.7770</td>\n",
       "      <td>156.4420</td>\n",
       "      <td>25.0</td>\n",
       "      <td>54.0</td>\n",
       "      <td>NaN</td>\n",
       "      <td>NaN</td>\n",
       "      <td>51.7802</td>\n",
       "      <td>NaN</td>\n",
       "      <td>NaN</td>\n",
       "      <td>NaN</td>\n",
       "      <td>NaN</td>\n",
       "      <td>NaN</td>\n",
       "    </tr>\n",
       "    <tr>\n",
       "      <th>3</th>\n",
       "      <td>Brazil</td>\n",
       "      <td>1990</td>\n",
       "      <td>27285.6286</td>\n",
       "      <td>16935.7876</td>\n",
       "      <td>8200.0</td>\n",
       "      <td>26926.0</td>\n",
       "      <td>NaN</td>\n",
       "      <td>NaN</td>\n",
       "      <td>54.3248</td>\n",
       "      <td>NaN</td>\n",
       "      <td>NaN</td>\n",
       "      <td>BR</td>\n",
       "      <td>-14.235004</td>\n",
       "      <td>-51.925280</td>\n",
       "    </tr>\n",
       "    <tr>\n",
       "      <th>4</th>\n",
       "      <td>Brazil</td>\n",
       "      <td>1990</td>\n",
       "      <td>27285.6286</td>\n",
       "      <td>16935.7876</td>\n",
       "      <td>8200.0</td>\n",
       "      <td>26926.0</td>\n",
       "      <td>NaN</td>\n",
       "      <td>NaN</td>\n",
       "      <td>34.8486</td>\n",
       "      <td>NaN</td>\n",
       "      <td>NaN</td>\n",
       "      <td>BR</td>\n",
       "      <td>-14.235004</td>\n",
       "      <td>-51.925280</td>\n",
       "    </tr>\n",
       "  </tbody>\n",
       "</table>\n",
       "</div>"
      ],
      "text/plain": [
       "                            Country  Year  Production     Exports  \\\n",
       "0                            Angola  1990     50.3450     84.3500   \n",
       "1                            Angola  1990     50.3450     84.3500   \n",
       "2  Bolivia (Plurinational State of)  1990    122.7770    156.4420   \n",
       "3                            Brazil  1990  27285.6286  16935.7876   \n",
       "4                            Brazil  1990  27285.6286  16935.7876   \n",
       "\n",
       "   Domestic_consumption  Gross_opening_stocks  Imports  Re_exports  \\\n",
       "0                  20.0                 210.0      NaN         NaN   \n",
       "1                  20.0                 210.0      NaN         NaN   \n",
       "2                  25.0                  54.0      NaN         NaN   \n",
       "3                8200.0               26926.0      NaN         NaN   \n",
       "4                8200.0               26926.0      NaN         NaN   \n",
       "\n",
       "   Price_grower  Price_retail  Consumption Country_code   Latitude  Longitude  \n",
       "0           NaN           NaN          NaN           AO -11.202692  17.873887  \n",
       "1       85.6569           NaN          NaN           AO -11.202692  17.873887  \n",
       "2       51.7802           NaN          NaN          NaN        NaN        NaN  \n",
       "3       54.3248           NaN          NaN           BR -14.235004 -51.925280  \n",
       "4       34.8486           NaN          NaN           BR -14.235004 -51.925280  "
      ]
     },
     "execution_count": 85,
     "metadata": {},
     "output_type": "execute_result"
    }
   ],
   "source": [
    "cleaned.head()"
   ]
  },
  {
   "cell_type": "code",
   "execution_count": 86,
   "metadata": {},
   "outputs": [],
   "source": [
    "data = [production,domestic_consumption,gross_opening_stocks,exports,imports,re_exports,price_grower,price_retail,consumption]"
   ]
  },
  {
   "cell_type": "code",
   "execution_count": 87,
   "metadata": {},
   "outputs": [],
   "source": [
    "setofcountries = []\n",
    "\n",
    "for df in data:\n",
    "    setofcountries.append(df[\"Country\"].unique())"
   ]
  },
  {
   "cell_type": "code",
   "execution_count": 88,
   "metadata": {},
   "outputs": [],
   "source": [
    "prod,dome,gros,expo,impo,re_e,pgrower,pretail,cons = setofcountries"
   ]
  },
  {
   "cell_type": "code",
   "execution_count": 89,
   "metadata": {},
   "outputs": [],
   "source": [
    "countries = cleaned.Country.unique()"
   ]
  },
  {
   "cell_type": "code",
   "execution_count": 90,
   "metadata": {},
   "outputs": [],
   "source": [
    "newdf = pd.DataFrame(\n",
    "        {\n",
    "            'Country':countries,\n",
    "            'inProduction':[False]*len(countries),\n",
    "            'inDomestic_consumption':[False]*len(countries),\n",
    "            'inGross_opening_stocks':[False]*len(countries),\n",
    "            'inExports':[False]*len(countries),\n",
    "            'inImports':[False]*len(countries),\n",
    "            'inRe_exports':[False]*len(countries),\n",
    "            'inPrice_grower':[False]*len(countries),\n",
    "            'inPrice_retail':[False]*len(countries),\n",
    "            'inConsumption':[False]*len(countries)\n",
    "        \n",
    "            \n",
    "        }\n",
    ")"
   ]
  },
  {
   "cell_type": "code",
   "execution_count": 91,
   "metadata": {},
   "outputs": [
    {
     "name": "stderr",
     "output_type": "stream",
     "text": [
      "/opt/homebrew/anaconda3/lib/python3.8/site-packages/pandas/core/indexing.py:670: SettingWithCopyWarning:\n",
      "\n",
      "\n",
      "A value is trying to be set on a copy of a slice from a DataFrame\n",
      "\n",
      "See the caveats in the documentation: https://pandas.pydata.org/pandas-docs/stable/user_guide/indexing.html#returning-a-view-versus-a-copy\n",
      "\n"
     ]
    }
   ],
   "source": [
    "for i in newdf.index:\n",
    "    if newdf[\"Country\"].iloc[i] in prod:\n",
    "        newdf[\"inProduction\"].iloc[i] = True        \n",
    "    if newdf[\"Country\"].iloc[i] in dome:\n",
    "        newdf[\"inDomestic_consumption\"].iloc[i] = True\n",
    "    if newdf[\"Country\"].iloc[i] in gros:\n",
    "        newdf[\"inGross_opening_stocks\"].iloc[i]= True    \n",
    "    if newdf[\"Country\"].iloc[i] in expo:\n",
    "        newdf[\"inExports\"].iloc[i]= True    \n",
    "    if newdf[\"Country\"].iloc[i] in impo:\n",
    "        newdf[\"inImports\"].iloc[i]= True    \n",
    "    if newdf[\"Country\"].iloc[i] in re_e:\n",
    "        newdf[\"inRe_exports\"].iloc[i]= True    \n",
    "    if newdf[\"Country\"].iloc[i] in pgrower:\n",
    "        newdf[\"inPrice_grower\"].iloc[i]= True    \n",
    "    if newdf[\"Country\"].iloc[i] in pretail:\n",
    "        newdf[\"inPrice_retail\"].iloc[i]= True    \n",
    "    if newdf[\"Country\"].iloc[i] in cons:\n",
    "        newdf[\"inConsumption\"].iloc[i]= True    \n",
    "    "
   ]
  },
  {
   "cell_type": "code",
   "execution_count": 92,
   "metadata": {},
   "outputs": [],
   "source": [
    "grouped = newdf.groupby(by = ['inProduction', 'inDomestic_consumption',\n",
    "       'inGross_opening_stocks', 'inExports', 'inImports', 'inRe_exports',\n",
    "       'inPrice_grower', 'inPrice_retail', 'inConsumption'])\n"
   ]
  },
  {
   "cell_type": "code",
   "execution_count": 93,
   "metadata": {},
   "outputs": [],
   "source": [
    "group_map = {group: i for i, group in enumerate(grouped.groups.keys())}\n"
   ]
  },
  {
   "cell_type": "code",
   "execution_count": 94,
   "metadata": {},
   "outputs": [],
   "source": [
    "newdf['group_id'] = newdf.apply(lambda x: group_map[tuple(x[['inProduction', 'inDomestic_consumption', 'inGross_opening_stocks', 'inExports', 'inImports', 'inRe_exports', 'inPrice_grower', 'inPrice_retail', 'inConsumption']])], axis=1)"
   ]
  },
  {
   "cell_type": "code",
   "execution_count": 95,
   "metadata": {},
   "outputs": [
    {
     "data": {
      "text/html": [
       "<div>\n",
       "<style scoped>\n",
       "    .dataframe tbody tr th:only-of-type {\n",
       "        vertical-align: middle;\n",
       "    }\n",
       "\n",
       "    .dataframe tbody tr th {\n",
       "        vertical-align: top;\n",
       "    }\n",
       "\n",
       "    .dataframe thead th {\n",
       "        text-align: right;\n",
       "    }\n",
       "</style>\n",
       "<table border=\"1\" class=\"dataframe\">\n",
       "  <thead>\n",
       "    <tr style=\"text-align: right;\">\n",
       "      <th></th>\n",
       "      <th></th>\n",
       "      <th></th>\n",
       "      <th></th>\n",
       "      <th></th>\n",
       "      <th></th>\n",
       "      <th></th>\n",
       "      <th></th>\n",
       "      <th></th>\n",
       "      <th>Country</th>\n",
       "      <th>group_id</th>\n",
       "    </tr>\n",
       "    <tr>\n",
       "      <th>inProduction</th>\n",
       "      <th>inDomestic_consumption</th>\n",
       "      <th>inGross_opening_stocks</th>\n",
       "      <th>inExports</th>\n",
       "      <th>inImports</th>\n",
       "      <th>inRe_exports</th>\n",
       "      <th>inPrice_grower</th>\n",
       "      <th>inPrice_retail</th>\n",
       "      <th>inConsumption</th>\n",
       "      <th></th>\n",
       "      <th></th>\n",
       "    </tr>\n",
       "  </thead>\n",
       "  <tbody>\n",
       "    <tr>\n",
       "      <th rowspan=\"2\" valign=\"top\">False</th>\n",
       "      <th rowspan=\"2\" valign=\"top\">False</th>\n",
       "      <th rowspan=\"2\" valign=\"top\">False</th>\n",
       "      <th rowspan=\"2\" valign=\"top\">False</th>\n",
       "      <th rowspan=\"2\" valign=\"top\">True</th>\n",
       "      <th rowspan=\"2\" valign=\"top\">True</th>\n",
       "      <th rowspan=\"2\" valign=\"top\">False</th>\n",
       "      <th>False</th>\n",
       "      <th>True</th>\n",
       "      <td>7</td>\n",
       "      <td>7</td>\n",
       "    </tr>\n",
       "    <tr>\n",
       "      <th>True</th>\n",
       "      <th>True</th>\n",
       "      <td>28</td>\n",
       "      <td>28</td>\n",
       "    </tr>\n",
       "    <tr>\n",
       "      <th>True</th>\n",
       "      <th>True</th>\n",
       "      <th>True</th>\n",
       "      <th>True</th>\n",
       "      <th>False</th>\n",
       "      <th>False</th>\n",
       "      <th>True</th>\n",
       "      <th>False</th>\n",
       "      <th>False</th>\n",
       "      <td>45</td>\n",
       "      <td>45</td>\n",
       "    </tr>\n",
       "  </tbody>\n",
       "</table>\n",
       "</div>"
      ],
      "text/plain": [
       "                                                                                                                                         Country  \\\n",
       "inProduction inDomestic_consumption inGross_opening_stocks inExports inImports inRe_exports inPrice_grower inPrice_retail inConsumption            \n",
       "False        False                  False                  False     True      True         False          False          True                 7   \n",
       "                                                                                                           True           True                28   \n",
       "True         True                   True                   True      False     False        True           False          False               45   \n",
       "\n",
       "                                                                                                                                         group_id  \n",
       "inProduction inDomestic_consumption inGross_opening_stocks inExports inImports inRe_exports inPrice_grower inPrice_retail inConsumption            \n",
       "False        False                  False                  False     True      True         False          False          True                  7  \n",
       "                                                                                                           True           True                 28  \n",
       "True         True                   True                   True      False     False        True           False          False                45  "
      ]
     },
     "execution_count": 95,
     "metadata": {},
     "output_type": "execute_result"
    }
   ],
   "source": [
    "grouped.count()"
   ]
  },
  {
   "cell_type": "code",
   "execution_count": 96,
   "metadata": {},
   "outputs": [
    {
     "data": {
      "text/plain": [
       "2    45\n",
       "1    28\n",
       "0     7\n",
       "Name: group_id, dtype: int64"
      ]
     },
     "execution_count": 96,
     "metadata": {},
     "output_type": "execute_result"
    }
   ],
   "source": [
    "newdf['group_id'].value_counts()"
   ]
  },
  {
   "cell_type": "code",
   "execution_count": null,
   "metadata": {},
   "outputs": [],
   "source": []
  }
 ],
 "metadata": {
  "kernelspec": {
   "display_name": "Python 3",
   "language": "python",
   "name": "python3"
  },
  "language_info": {
   "codemirror_mode": {
    "name": "ipython",
    "version": 3
   },
   "file_extension": ".py",
   "mimetype": "text/x-python",
   "name": "python",
   "nbconvert_exporter": "python",
   "pygments_lexer": "ipython3",
   "version": "3.8.5"
  }
 },
 "nbformat": 4,
 "nbformat_minor": 4
}
